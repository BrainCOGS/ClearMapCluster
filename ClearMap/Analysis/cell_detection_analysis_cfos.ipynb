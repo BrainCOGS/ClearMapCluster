{
 "cells": [
  {
   "cell_type": "markdown",
   "metadata": {},
   "source": [
    "## ClearMap cell detection Analysis Tutorial, Part 1.\n",
    "\n",
    "### This is a brief tutorial designed to analyze detected c-Fos+ cells among behavioral groups. \n",
    "It outlines the basic statistics you may want to run for an experiment in which you have collected and cleared brains after a behavior and stained for c-Fos. \n",
    "#### Note: It assumes you have processed and done quality control on brain volumes processed through T.Pisano/Z.Dhanerawala's package, ClearMapCluster. \n",
    "Before beginning the tutorial, check that each brain in your processed directory has a csv file named `\"Annotated_counts_[..]\"`. "
   ]
  },
  {
   "cell_type": "code",
   "execution_count": 2,
   "metadata": {},
   "outputs": [],
   "source": [
    "#import relevant modules\n",
    "\n",
    "import os, numpy as np, pandas as pd, scipy, itertools, sys, json, seaborn as sns\n",
    "import matplotlib.pyplot as plt, matplotlib as mpl\n",
    "\n",
    "#these are formatting settings useful for importing the exported plots into image editing software later (Illustrator)\n",
    "mpl.rcParams[\"pdf.fonttype\"] = 42\n",
    "mpl.rcParams[\"ps.fonttype\"] = 42\n",
    "mpl.rcParams[\"xtick.major.size\"] = 6\n",
    "mpl.rcParams[\"ytick.major.size\"] = 6"
   ]
  },
  {
   "cell_type": "markdown",
   "metadata": {},
   "source": [
    "### Defining functions\n",
    "\n",
    "Below we are going to define 2 key functions used to do analysis: one, to traverse through the Allen ontology and find parent and child structures for each brain region, and another to compile the composite dataframe using the individual dataframes generated per brain. \n",
    "\n",
    "#### Note: You will generally not have to modify these functions unless you are trying to troubleshoot an error."
   ]
  },
  {
   "cell_type": "code",
   "execution_count": 3,
   "metadata": {},
   "outputs": [],
   "source": [
    "def get_progeny(dic,parent_structure,progeny_list):\n",
    "    \"\"\" \n",
    "    ---PURPOSE---\n",
    "    Get a list of all progeny of a structure name.\n",
    "    This is a recursive function which is why progeny_list is an\n",
    "    argument and is not returned.\n",
    "    ---INPUT---\n",
    "    dic                  A dictionary representing the JSON file \n",
    "                         which contains the ontology of interest\n",
    "    parent_structure     The structure\n",
    "    progeny_list         The list to which this function will \n",
    "                         append the progeny structures. \n",
    "    \"\"\"\n",
    "    if 'msg' in list(dic.keys()): dic = dic['msg'][0]\n",
    "    \n",
    "    name = dic.get(\"name\")\n",
    "    children = dic.get(\"children\")\n",
    "    if name == parent_structure:\n",
    "        for child in children: # child is a dict\n",
    "            child_name = child.get(\"name\")\n",
    "            progeny_list.append(child_name)\n",
    "            get_progeny(child,parent_structure=child_name,progeny_list=progeny_list)\n",
    "        return\n",
    "    \n",
    "    for child in children:\n",
    "        child_name = child.get(\"name\")\n",
    "        get_progeny(child,parent_structure=parent_structure,progeny_list=progeny_list)\n",
    "    return \n",
    "\n",
    "def generate_data_frame(conditions, lst, pth, flnm, \n",
    "                        exclude, ontology_file, scale = 0.025):\n",
    "    \"\"\" \n",
    "    used to make a pooled csv file of all cell counts in an experiment\n",
    "    inputs:\n",
    "        conditions: zip of file names + condition\n",
    "        lst: list of file names run through analysis\n",
    "        pth: path to save csv output\n",
    "        scale: atlas scale, default 25 um/voxel (0.025 mm/voxel); change if using a different atlas resolution\n",
    "    \"\"\"\n",
    "    #open ontology file\n",
    "    with open(ontology_file) as json_file:\n",
    "        ontology_dict = json.load(json_file)\n",
    "\n",
    "    #generate data frame\n",
    "    bglst=[]\n",
    "    for fl in lst:\n",
    "        #extract out info\n",
    "        nm = os.path.basename(fl)\n",
    "        #make dataframe\n",
    "        df = pd.read_csv(fl+\"/%s.csv\" % flnm)[1:] #remove previous headers\n",
    "        print(nm, df.shape)\n",
    "        df = df.replace(np.nan, \"\", regex=True)\n",
    "        df[\"Brain\"] = nm\n",
    "        df[\"Condition\"] = conditions[nm]\n",
    "        \n",
    "        #sum up ontology for each structure\n",
    "        for struct in df.name.values:\n",
    "            progeny = []; counts = []\n",
    "            get_progeny(ontology_dict, struct, progeny)\n",
    "            #add structure counts to itself\n",
    "            counts.append(df[df.name == struct][\"counts\"].values[0])\n",
    "            for progen in progeny:\n",
    "                try:\n",
    "                    counts.append(df[df.name == progen][\"counts\"].values[0])\n",
    "                except:\n",
    "                    counts.append(0)\n",
    "            df.loc[df.name == struct, \"counts\"] = np.sum(np.array(counts))\n",
    "        \n",
    "        #remove structures you don't want to analyze\n",
    "        for soi in exclude:\n",
    "            df = df[df.name != soi]\n",
    "            progeny = []; get_progeny(ontology_dict, soi, progeny)\n",
    "            for progen in progeny:\n",
    "                df = df[df.name != progen]\n",
    "        \n",
    "        #append to composite dataframe\n",
    "        bglst.append(df)\n",
    "\n",
    "    df = pd.concat(bglst)\n",
    "    df[\"counts\"] = df[\"counts\"].apply(int)\n",
    "\n",
    "    df = df.drop(columns = [\"Unnamed: 0\"])\n",
    "    #get all brain names\n",
    "    brains = np.unique(df.Brain.values)\n",
    "    \n",
    "    #save total counts in dict\n",
    "    total_counts = {}\n",
    "    percents = {}\n",
    "    #for each brain, get total counts\n",
    "    for brain in brains:\n",
    "        total_counts[brain] = df[df.Brain == brain].counts.sum(0)               \n",
    "    percents = [df[df.Brain == brain].counts.apply(lambda x: (x/total_counts[brain])*100).astype(\"float64\") for brain in brains]\n",
    "    #concantenate together\n",
    "    df_percent = pd.concat(percents)\n",
    "    df[\"percent\"] = df_percent\n",
    "    df[\"density\"] = df[df.voxels_in_structure > 0].apply(lambda x:x.counts/(float(x.voxels_in_structure*(scale**3))), 1)\n",
    "    \n",
    "    df.to_csv(pth, index = None)\n",
    "    \n",
    "    return pth"
   ]
  },
  {
   "cell_type": "markdown",
   "metadata": {},
   "source": [
    "### Setting paths\n",
    "\n",
    "Below we are going to define variables and paths needed to import and export our analysis dataframe. Generally these will be system dependent, and experiment dependent, so make sure you modify these accordingly.\n",
    "\n",
    "#### Note: For Windows OS, the path string will look different. Make sure you check and set the paths according to what makes sense for your OS.\n",
    "E.g. In Windows, if you have mounted a file server under disk name \"H:\", your path to the `LightSheetData` fileshare should look something like this:\n",
    "`df_pth = r\"H:\\falkner-mouse\\allen_atlas\\allen_id_table_w_voxel_counts.xlsx\"`.\n",
    "\n",
    "The \"r\" in front of the path is required for Windows string formats."
   ]
  },
  {
   "cell_type": "code",
   "execution_count": 4,
   "metadata": {},
   "outputs": [],
   "source": [
    "#set appropriate paths\n",
    "df_pth = \"/jukebox/LightSheetData/falkner-mouse/allen_atlas/allen_id_table_w_voxel_counts.xlsx\"\n",
    "ann_pth = \"/jukebox/LightSheetData/falkner-mouse/allen_atlas/annotation_2017_25um_sagittal_forDVscans.nrrd\"\n",
    "atl_pth = \"/jukebox/LightSheetData/falkner-mouse/allen_atlas/average_template_25_sagittal_forDVscans.tif\"\n",
    "ontology_file = \"/jukebox/LightSheetData/falkner-mouse/allen_atlas/allen.json\"\n",
    "src = \"/jukebox/LightSheetData/falkner-mouse/scooter/clearmap_processed\"\n",
    "dst = \"/jukebox/LightSheetData/falkner-mouse/scooter/pooled_analysis\" #where all output will be saved\n",
    "\n",
    "if not os.path.exists(dst): os.mkdir(dst)\n",
    "pth = os.path.join(dst, \"cell_counts.csv\") #destination to save out composite dataframe\n",
    "\n",
    "#get files that have annotated counts per brain\n",
    "lst = [os.path.join(src, fld) for fld in os.listdir(src) \n",
    "       if os.path.exists(os.path.join(os.path.join(src, fld), \n",
    "                                                     \"Annotated_counts.csv\"))]; lst.sort()"
   ]
  },
  {
   "cell_type": "markdown",
   "metadata": {},
   "source": [
    "You will need to define animal names and condition variables based on your experimental paradigm. Typically you would have all your processed brains organized in one directory, and each brain name would correspond to a behavioral condition:\n",
    "E.g. `mfnp3` was part of the `male-female` behavior group. \n",
    "\n",
    "Using this info, you can define the animals and corresponding behavioral conditions they belong to in the 2 lists below. This will be useful in making the composite dataframe and running statistical tests later."
   ]
  },
  {
   "cell_type": "code",
   "execution_count": null,
   "metadata": {},
   "outputs": [],
   "source": [
    "#conditions based on experiment - SET AND DOUBLE CHECK THESE MANUALLY\n",
    "nms = [\"mfnp3\", \"fmnp4\", \"mfnp2\", \"mmnp4\", \"mmnp6\", \n",
    "       \"mmnp5\", \"fmnp6\", \"fmnp5\"]\n",
    "#above animal name position should correspond to condition\n",
    "cond = [\"male-female\", \"female-male\", \"male-female\", \"male-male\", \"male-male\",\n",
    "        \"male-male\", \"female-male\", \"female-male\"]\n",
    "conditions = {n:c for n,c in zip(nms, cond)}"
   ]
  },
  {
   "cell_type": "markdown",
   "metadata": {},
   "source": [
    "To find brain regions that have elevated c-Fos+ cells, you will be comparing across the whole brain. Optionally, you can chose to name regions defined in the [Allen ontology](http://atlas.brain-map.org/atlas?atlas=2&plate=100883867) that you would like to exclude from these comparisons. Here we exclude ventricles and white matter tracts as these do not have neurons in the mouse brain."
   ]
  },
  {
   "cell_type": "code",
   "execution_count": null,
   "metadata": {},
   "outputs": [],
   "source": [
    "#name structures you want to exclude from analysis\n",
    "exclude = [\"ventricular systems\", \"fiber tracts\", \"grooves\"]"
   ]
  },
  {
   "cell_type": "markdown",
   "metadata": {},
   "source": [
    "### Make composite dataframe\n",
    "\n",
    "Now we can run the function to make the composite dataframe:"
   ]
  },
  {
   "cell_type": "code",
   "execution_count": 5,
   "metadata": {
    "scrolled": true
   },
   "outputs": [
    {
     "name": "stdout",
     "output_type": "stream",
     "text": [
      "fmnp4 (582, 8)\n",
      "fmnp5 (583, 8)\n",
      "fmnp6 (583, 8)\n",
      "mfnp2 (586, 8)\n",
      "mfnp3 (587, 8)\n",
      "mmnp4 (578, 8)\n",
      "mmnp5 (569, 8)\n",
      "mmnp6 (585, 8)\n"
     ]
    }
   ],
   "source": [
    "csv_pth = generate_data_frame(conditions, lst, pth, \"Annotated_counts\", exclude, ontology_file)"
   ]
  },
  {
   "cell_type": "markdown",
   "metadata": {},
   "source": [
    "You can print out a portion of the generated dataframe to see what it looks like, or inspect it in Excel."
   ]
  },
  {
   "cell_type": "code",
   "execution_count": 6,
   "metadata": {
    "scrolled": true
   },
   "outputs": [
    {
     "data": {
      "text/html": [
       "<div>\n",
       "<style scoped>\n",
       "    .dataframe tbody tr th:only-of-type {\n",
       "        vertical-align: middle;\n",
       "    }\n",
       "\n",
       "    .dataframe tbody tr th {\n",
       "        vertical-align: top;\n",
       "    }\n",
       "\n",
       "    .dataframe thead th {\n",
       "        text-align: right;\n",
       "    }\n",
       "</style>\n",
       "<table border=\"1\" class=\"dataframe\">\n",
       "  <thead>\n",
       "    <tr style=\"text-align: right;\">\n",
       "      <th></th>\n",
       "      <th>id</th>\n",
       "      <th>counts</th>\n",
       "      <th>name</th>\n",
       "      <th>acronym</th>\n",
       "      <th>parent_name</th>\n",
       "      <th>parent_acronym</th>\n",
       "      <th>voxels_in_structure</th>\n",
       "      <th>Brain</th>\n",
       "      <th>Condition</th>\n",
       "      <th>percent</th>\n",
       "      <th>density</th>\n",
       "    </tr>\n",
       "  </thead>\n",
       "  <tbody>\n",
       "    <tr>\n",
       "      <th>0</th>\n",
       "      <td>2.0</td>\n",
       "      <td>44</td>\n",
       "      <td>Primary somatosensory area, mouth, layer 6b</td>\n",
       "      <td>SSp-m6b</td>\n",
       "      <td>Primary somatosensory area, mouth</td>\n",
       "      <td>SSp-m</td>\n",
       "      <td>7339.0</td>\n",
       "      <td>fmnp4</td>\n",
       "      <td>female-male</td>\n",
       "      <td>0.007437</td>\n",
       "      <td>383.703502</td>\n",
       "    </tr>\n",
       "    <tr>\n",
       "      <th>1</th>\n",
       "      <td>7.0</td>\n",
       "      <td>615</td>\n",
       "      <td>Principal sensory nucleus of the trigeminal</td>\n",
       "      <td>PSV</td>\n",
       "      <td>Pons, sensory related</td>\n",
       "      <td>P-sen</td>\n",
       "      <td>70327.0</td>\n",
       "      <td>fmnp4</td>\n",
       "      <td>female-male</td>\n",
       "      <td>0.103943</td>\n",
       "      <td>559.671250</td>\n",
       "    </tr>\n",
       "    <tr>\n",
       "      <th>2</th>\n",
       "      <td>9.0</td>\n",
       "      <td>137</td>\n",
       "      <td>Primary somatosensory area, trunk, layer 6a</td>\n",
       "      <td>SSp-tr6a</td>\n",
       "      <td>Primary somatosensory area, trunk</td>\n",
       "      <td>SSp-tr</td>\n",
       "      <td>14877.0</td>\n",
       "      <td>fmnp4</td>\n",
       "      <td>female-male</td>\n",
       "      <td>0.023155</td>\n",
       "      <td>589.366136</td>\n",
       "    </tr>\n",
       "    <tr>\n",
       "      <th>3</th>\n",
       "      <td>10.0</td>\n",
       "      <td>1074</td>\n",
       "      <td>Superior colliculus, motor related, intermedia...</td>\n",
       "      <td>SCig</td>\n",
       "      <td>Superior colliculus, motor related</td>\n",
       "      <td>SCm</td>\n",
       "      <td>130357.0</td>\n",
       "      <td>fmnp4</td>\n",
       "      <td>female-male</td>\n",
       "      <td>0.181520</td>\n",
       "      <td>527.290441</td>\n",
       "    </tr>\n",
       "    <tr>\n",
       "      <th>4</th>\n",
       "      <td>12.0</td>\n",
       "      <td>70</td>\n",
       "      <td>Interfascicular nucleus raphe</td>\n",
       "      <td>IF</td>\n",
       "      <td>Midbrain raphe nuclei</td>\n",
       "      <td>RAmb</td>\n",
       "      <td>5559.0</td>\n",
       "      <td>fmnp4</td>\n",
       "      <td>female-male</td>\n",
       "      <td>0.011831</td>\n",
       "      <td>805.900342</td>\n",
       "    </tr>\n",
       "    <tr>\n",
       "      <th>5</th>\n",
       "      <td>15.0</td>\n",
       "      <td>257</td>\n",
       "      <td>Parataenial nucleus</td>\n",
       "      <td>PT</td>\n",
       "      <td>Midline group of the dorsal thalamus</td>\n",
       "      <td>MTN</td>\n",
       "      <td>14706.0</td>\n",
       "      <td>fmnp4</td>\n",
       "      <td>female-male</td>\n",
       "      <td>0.043436</td>\n",
       "      <td>1118.455052</td>\n",
       "    </tr>\n",
       "    <tr>\n",
       "      <th>6</th>\n",
       "      <td>17.0</td>\n",
       "      <td>1047</td>\n",
       "      <td>Superior colliculus, motor related, intermedia...</td>\n",
       "      <td>SCiw</td>\n",
       "      <td>Superior colliculus, motor related</td>\n",
       "      <td>SCm</td>\n",
       "      <td>133937.0</td>\n",
       "      <td>fmnp4</td>\n",
       "      <td>female-male</td>\n",
       "      <td>0.176957</td>\n",
       "      <td>500.294915</td>\n",
       "    </tr>\n",
       "    <tr>\n",
       "      <th>7</th>\n",
       "      <td>19.0</td>\n",
       "      <td>70</td>\n",
       "      <td>Induseum griseum</td>\n",
       "      <td>IG</td>\n",
       "      <td>Hippocampal region</td>\n",
       "      <td>HIP</td>\n",
       "      <td>7958.0</td>\n",
       "      <td>fmnp4</td>\n",
       "      <td>female-male</td>\n",
       "      <td>0.011831</td>\n",
       "      <td>562.955516</td>\n",
       "    </tr>\n",
       "    <tr>\n",
       "      <th>8</th>\n",
       "      <td>20.0</td>\n",
       "      <td>140</td>\n",
       "      <td>Entorhinal area, lateral part, layer 2</td>\n",
       "      <td>ENTl2</td>\n",
       "      <td>Entorhinal area, lateral part</td>\n",
       "      <td>ENTl</td>\n",
       "      <td>102602.0</td>\n",
       "      <td>fmnp4</td>\n",
       "      <td>female-male</td>\n",
       "      <td>0.023662</td>\n",
       "      <td>87.327732</td>\n",
       "    </tr>\n",
       "    <tr>\n",
       "      <th>9</th>\n",
       "      <td>23.0</td>\n",
       "      <td>231</td>\n",
       "      <td>Anterior amygdalar area</td>\n",
       "      <td>AAA</td>\n",
       "      <td>Striatum-like amygdalar nuclei</td>\n",
       "      <td>sAMY</td>\n",
       "      <td>31652.0</td>\n",
       "      <td>fmnp4</td>\n",
       "      <td>female-male</td>\n",
       "      <td>0.039042</td>\n",
       "      <td>467.079489</td>\n",
       "    </tr>\n",
       "  </tbody>\n",
       "</table>\n",
       "</div>"
      ],
      "text/plain": [
       "     id  counts                                               name   acronym  \\\n",
       "0   2.0      44        Primary somatosensory area, mouth, layer 6b   SSp-m6b   \n",
       "1   7.0     615        Principal sensory nucleus of the trigeminal       PSV   \n",
       "2   9.0     137        Primary somatosensory area, trunk, layer 6a  SSp-tr6a   \n",
       "3  10.0    1074  Superior colliculus, motor related, intermedia...      SCig   \n",
       "4  12.0      70                      Interfascicular nucleus raphe        IF   \n",
       "5  15.0     257                                Parataenial nucleus        PT   \n",
       "6  17.0    1047  Superior colliculus, motor related, intermedia...      SCiw   \n",
       "7  19.0      70                                   Induseum griseum        IG   \n",
       "8  20.0     140             Entorhinal area, lateral part, layer 2     ENTl2   \n",
       "9  23.0     231                            Anterior amygdalar area       AAA   \n",
       "\n",
       "                            parent_name parent_acronym  voxels_in_structure  \\\n",
       "0     Primary somatosensory area, mouth          SSp-m               7339.0   \n",
       "1                 Pons, sensory related          P-sen              70327.0   \n",
       "2     Primary somatosensory area, trunk         SSp-tr              14877.0   \n",
       "3    Superior colliculus, motor related            SCm             130357.0   \n",
       "4                 Midbrain raphe nuclei           RAmb               5559.0   \n",
       "5  Midline group of the dorsal thalamus            MTN              14706.0   \n",
       "6    Superior colliculus, motor related            SCm             133937.0   \n",
       "7                    Hippocampal region            HIP               7958.0   \n",
       "8         Entorhinal area, lateral part           ENTl             102602.0   \n",
       "9        Striatum-like amygdalar nuclei           sAMY              31652.0   \n",
       "\n",
       "   Brain    Condition   percent      density  \n",
       "0  fmnp4  female-male  0.007437   383.703502  \n",
       "1  fmnp4  female-male  0.103943   559.671250  \n",
       "2  fmnp4  female-male  0.023155   589.366136  \n",
       "3  fmnp4  female-male  0.181520   527.290441  \n",
       "4  fmnp4  female-male  0.011831   805.900342  \n",
       "5  fmnp4  female-male  0.043436  1118.455052  \n",
       "6  fmnp4  female-male  0.176957   500.294915  \n",
       "7  fmnp4  female-male  0.011831   562.955516  \n",
       "8  fmnp4  female-male  0.023662    87.327732  \n",
       "9  fmnp4  female-male  0.039042   467.079489  "
      ]
     },
     "execution_count": 6,
     "metadata": {},
     "output_type": "execute_result"
    }
   ],
   "source": [
    "df = pd.read_csv(csv_pth)\n",
    "df.head(n = 10)"
   ]
  },
  {
   "cell_type": "markdown",
   "metadata": {},
   "source": [
    "### Statistics\n",
    "\n",
    "Then, we can run basic, group-wise statistics on the behavioral conditions in this experiment using the `condition` list defined earlier. We can start with a one-way ANOVA with a correction for multiple comparisons (Tukey HSD)\n",
    "\n",
    "You can define the p-value cutoff you want to use:"
   ]
  },
  {
   "cell_type": "code",
   "execution_count": 7,
   "metadata": {},
   "outputs": [],
   "source": [
    "cutoff = 0.05"
   ]
  },
  {
   "cell_type": "markdown",
   "metadata": {},
   "source": [
    "And set the measure you want to use for your statistics (cell density, cell count, normalized cell count, etc.)"
   ]
  },
  {
   "cell_type": "code",
   "execution_count": 8,
   "metadata": {},
   "outputs": [],
   "source": [
    "#measure to use for tests\n",
    "measure = \"density\" #you can change this to count, or percent later "
   ]
  },
  {
   "cell_type": "markdown",
   "metadata": {},
   "source": [
    "Then run the statistics for each structure:"
   ]
  },
  {
   "cell_type": "code",
   "execution_count": 9,
   "metadata": {},
   "outputs": [
    {
     "name": "stderr",
     "output_type": "stream",
     "text": [
      "/home/wanglab/anaconda3/envs/lightsheet/lib/python3.7/site-packages/scipy/stats/stats.py:3339: RuntimeWarning: invalid value encountered in double_scalars\n",
      "  ssbn += _square_of_sums(a - offset) / len(a)\n"
     ]
    }
   ],
   "source": [
    "#import modules for one way anova\n",
    "from scipy.stats import f_oneway\n",
    "from statsmodels.stats.multicomp import MultiComparison\n",
    "\n",
    "#read csv generated above\n",
    "df = pd.read_csv(csv_pth, index_col = None)\n",
    "\n",
    "#formatting to include structure name and parent name\n",
    "df_anova = pd.DataFrame()\n",
    "df_anova[\"name\"] = df.name.unique()\n",
    "df_anova[\"parent_name\"] = [df.loc[df.name == nm, \"parent_name\"].values[0]\n",
    "                           for nm in df_anova[\"name\"]]\n",
    "df_anova[\"tukeyhsd\"] = np.ones(len(df_anova))*np.nan\n",
    "\n",
    "for nm in np.unique(df.name.values): #to run on each structure\n",
    "    f, pval = f_oneway(df[(df.name == nm) & (df.Condition == \"male-male\")][measure].values, \n",
    "                 df[(df.name == nm) & (df.Condition == \"female-male\")][measure].values,\n",
    "                 df[(df.name == nm) & (df.Condition == \"male-female\")][measure].values)\n",
    "\n",
    "    df_anova.loc[(df_anova[\"name\"] == nm), \"anova_f\"] = f\n",
    "    df_anova.loc[(df_anova[\"name\"] == nm), \"anova_pval\"] = pval\n",
    "\n",
    "    #doing post hoc on significant structures\n",
    "    if pval < cutoff:\n",
    "        mc = MultiComparison(df[df.name == nm][measure].values, df[df.name == nm ].Condition.values)\n",
    "        result = mc.tukeyhsd(alpha=cutoff)\n",
    "\n",
    "        df_anova.loc[(df_anova[\"name\"] == nm), \"tukeyhsd\"] = np.min(result.pvalues)\n",
    "\n",
    "df_anova.to_csv(os.path.join(dst, \"one_way_anova_{}.csv\".format(measure)))"
   ]
  },
  {
   "cell_type": "markdown",
   "metadata": {},
   "source": [
    "Finally, you can use the results of the ANOVA to visualize the significant structures per group, using seaborn."
   ]
  },
  {
   "cell_type": "code",
   "execution_count": 10,
   "metadata": {
    "scrolled": true
   },
   "outputs": [
    {
     "data": {
      "image/png": "[encoded data removed]",
      "text/plain": [
       "<Figure size 360x720 with 1 Axes>"
      ]
     },
     "metadata": {
      "needs_background": "light"
     },
     "output_type": "display_data"
    }
   ],
   "source": [
    "#find structures with multiple comparisons corrections    \n",
    "sig_structs = df_anova[(df_anova.anova_pval < 0.05) & \n",
    "                        (df_anova.tukeyhsd < 0.05)].name.values\n",
    "#plot the ones with lower density separately\n",
    "sig_structures_ld = [xx for xx in sig_structs \n",
    "                     if df[df.name == xx][measure].mean() < 100]\n",
    "\n",
    "df_nm = df[(df.name.isin(sig_structs)) & (~df.name.isin(sig_structures_ld))]\n",
    "fig, ax = plt.subplots(figsize=(5,10))\n",
    "sns.stripplot(y = \"name\", x = measure, hue = \"Condition\", data = df_nm,\n",
    "            orient = \"h\", size=7)\n",
    "#you can also choose to uncomment the lines below and make boxplots instead\n",
    "# sns.boxplot(y = \"name\", x = \"density\", hue = \"Condition\", data = df_nm,\n",
    "#             orient = \"h\", showfliers=False, showcaps=False, \n",
    "#         boxprops={'facecolor':'None'})\n",
    "plt.xlabel(\"Density (cells/mm$^3$)\")\n",
    "plt.ylabel(\"Structure\")\n",
    "#save out\n",
    "plt.savefig(os.path.join(dst, \"boxplots_%s.pdf\" % measure), dpi = 300, bbox_inches = \"tight\")"
   ]
  },
  {
   "cell_type": "markdown",
   "metadata": {},
   "source": [
    "You can make a separate plot for structures with lower densities that are too small to visualize on the above X-axis."
   ]
  },
  {
   "cell_type": "code",
   "execution_count": 11,
   "metadata": {},
   "outputs": [
    {
     "data": {
      "image/png": "[encoded data removed]",
      "text/plain": [
       "<Figure size 360x144 with 1 Axes>"
      ]
     },
     "metadata": {
      "needs_background": "light"
     },
     "output_type": "display_data"
    }
   ],
   "source": [
    "df_ld = df[df.name.isin(sig_structures_ld)]\n",
    "\n",
    "fig, ax = plt.subplots(figsize=(5,2))\n",
    "sns.stripplot(y = \"name\", x = measure, hue = \"Condition\", data = df_ld,\n",
    "            orient = \"h\", size=7)\n",
    "\n",
    "plt.xlabel(\"Density (cells/mm$^3$)\")\n",
    "plt.ylabel(\"Structure\")\n",
    "#save out\n",
    "plt.savefig(os.path.join(dst, \"boxplots_lower_%s.pdf\") % measure, \n",
    "            dpi = 300, bbox_inches = \"tight\")"
   ]
  },
  {
   "cell_type": "markdown",
   "metadata": {},
   "source": [
    "There are also many ways you can customize our plots for visualization, with color and labels. You can look up the parameters in seaborn and matplotlib in python for further info. \n",
    "\n",
    "E.g. You can change the color of your datapoints using `palette`, and adjust the size of your data points using `size`."
   ]
  },
  {
   "cell_type": "code",
   "execution_count": 12,
   "metadata": {},
   "outputs": [
    {
     "data": {
      "image/png": "[encoded data removed]",
      "text/plain": [
       "<Figure size 360x144 with 1 Axes>"
      ]
     },
     "metadata": {
      "needs_background": "light"
     },
     "output_type": "display_data"
    }
   ],
   "source": [
    "fig, ax = plt.subplots(figsize=(5,2))\n",
    "sns.stripplot(y = \"name\", x = measure, hue = \"Condition\", data = df_ld,\n",
    "            orient = \"h\", size=5, palette=[\"black\", \"red\", \"blue\"])\n",
    "\n",
    "plt.xlabel(\"Density (cells/mm$^3$)\")\n",
    "plt.ylabel(\"Structure\")\n",
    "plt.savefig(os.path.join(dst, \"boxplots_lower_%s.pdf\") % measure, \n",
    "            dpi = 300, bbox_inches = \"tight\")"
   ]
  }
 ],
 "metadata": {
  "kernelspec": {
   "display_name": "Python 3",
   "language": "python",
   "name": "python3"
  },
  "language_info": {
   "codemirror_mode": {
    "name": "ipython",
    "version": 3
   },
   "file_extension": ".py",
   "mimetype": "text/x-python",
   "name": "python",
   "nbconvert_exporter": "python",
   "pygments_lexer": "ipython3",
   "version": "3.7.6"
  }
 },
 "nbformat": 4,
 "nbformat_minor": 4
}
