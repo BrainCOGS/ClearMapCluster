{
 "cells": [
  {
   "cell_type": "markdown",
   "metadata": {},
   "source": [
    "### ClearMap parameter sweep\n",
    "\n",
    "New users *must* use this notebook to determine the optimal parameters for cell detection on their images before processing any data. Follow the instructions below"
   ]
  },
  {
   "cell_type": "markdown",
   "metadata": {},
   "source": [
    "#### Warning #1: \n",
    "Check to make sure elastix is installed under `/usr/bin/elastix` on your local computer, as the `Settings.py` checks the Elastix paths before any imports. You can validate this by typing `which elastix` into the terminal to make sure the path is indeed `/usr/bin/elastix`."
   ]
  },
  {
   "cell_type": "markdown",
   "metadata": {},
   "source": [
    "#### Run the following imports:"
   ]
  },
  {
   "cell_type": "code",
   "execution_count": 4,
   "metadata": {},
   "outputs": [],
   "source": [
    "import os, sys, shutil, pickle, tifffile, numpy as np\n",
    "from xvfbwrapper import Xvfb; vdisplay = Xvfb(); vdisplay.start()\n",
    "from itertools import product\n",
    "from skimage.exposure import rescale_intensity\n",
    "\n",
    "from ClearMap.cluster.preprocessing import updateparams, listdirfull, arrayjob, makedir, removedir\n",
    "from ClearMap.cluster.directorydeterminer import directorydeterminer\n",
    "from ClearMap.cluster.par_tools import celldetection_operations\n",
    "from ClearMap.cluster.utils import load_kwargs"
   ]
  },
  {
   "cell_type": "markdown",
   "metadata": {},
   "source": [
    "Set the home directory of your computer to the variable `systemdirectory` so appropriate file paths can be set in the rest of the dictionary."
   ]
  },
  {
   "cell_type": "code",
   "execution_count": 2,
   "metadata": {},
   "outputs": [],
   "source": [
    "systemdirectory = \"/home/wanglab\""
   ]
  },
  {
   "cell_type": "markdown",
   "metadata": {},
   "source": [
    "#### Set paths to data\n",
    "The `inputdictionary` structure is as follows:\n",
    "\n",
    "* Key = Path to data \n",
    "* Value = `list[\"xx\", \"##\"]` where xx = regch, injch, or cellch and ## = two digit channel number\n",
    "\n",
    "The two digit channel number is based on the order of channels imaged in the LaVision acquisition setup. This will typically be alphanumerically ordered. For example, if you acquired a multi-channel stack using the 488 and 647 nm laser, `488 = 00`, and `647 = 01`. \n",
    "\n",
    "The naming of the channels is categoried as follows:\n",
    "\n",
    "* \"regch\" = channel to be used for registration, assumption is all other channels are signal\n",
    "* \"cellch\" = channel(s) to apply cell detection\n",
    "* \"injch\" = channels(s) to quantify injection site\n",
    "\n",
    "If you have acquired multiple channels in different imaging sessions of the same sample, and thus have multiple folders, you can set them in the `inputdictionary` as such:\n",
    "`inputdictionary={path_1: [[\"regch\", \"00\"]], path_2: [[\"cellch\", \"00\"], [\"injch\", \"01\"]]}`"
   ]
  },
  {
   "cell_type": "code",
   "execution_count": 3,
   "metadata": {},
   "outputs": [],
   "source": [
    "inputdictionary={\n",
    "os.path.join(systemdirectory, \"LightSheetTransfer/Jess/202001_tpham_crus1_ymaze_cfos/200123_tpcrus1_lat_cfos_an13_1_3x_488_008na_1hfds_z10um_100msec_12-23-02\"): [[\"regch\", \"00\"]],\n",
    "os.path.join(systemdirectory, \"LightSheetTransfer/Jess/202001_tpham_crus1_ymaze_cfos/200123_tpcrus1_lat_cfos_an13_1_3x_647_008na_1hfds_z10um_250msec_12-11-38\"): [[\"cellch\", \"00\"]]\n",
    "}"
   ]
  },
  {
   "cell_type": "markdown",
   "metadata": {},
   "source": [
    "#### Filling the parameter dictionary\n",
    "\n",
    "The parameter dictionary is used in the rest of the software to refer back to inputs and outputs, as well as imaging and processing attributes. The keys in the `params` dictionary represent:\n",
    "\n",
    "* `inputdirectory` = the input dictionary we previously made. You can set the value to this `inputdictionary` variable.\n",
    "* `outputdirectory` = where you want to save your parameter sweep results. Typically in the experiment's folder, based on the sample name.\n",
    "* `xyz_scale` = the pixel size of your images. For the LaVision UltraMicroscope, this is typically: 1.3xobjective w/ 1xzoom = 5um/pixel; 4x objective = 1.63um/pixel\n",
    "* `tiling_overlap` = percent overlap taken during tiling. Can set to \"0\" if no tiling was done.\n",
    "* `blendtype` = process by which you want to blend the 2 lightsheets, typically \"sigmoidal\" is best.\n"
   ]
  }
 ],
 "metadata": {
  "kernelspec": {
   "display_name": "lightsheet",
   "language": "python",
   "name": "lightsheet"
  },
  "language_info": {
   "codemirror_mode": {
    "name": "ipython",
    "version": 3
   },
   "file_extension": ".py",
   "mimetype": "text/x-python",
   "name": "python",
   "nbconvert_exporter": "python",
   "pygments_lexer": "ipython3",
   "version": "3.7.4"
  }
 },
 "nbformat": 4,
 "nbformat_minor": 4
}
